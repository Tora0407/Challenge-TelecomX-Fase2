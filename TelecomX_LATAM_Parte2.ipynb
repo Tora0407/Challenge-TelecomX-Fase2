{
  "nbformat": 4,
  "nbformat_minor": 0,
  "metadata": {
    "colab": {
      "provenance": [],
      "authorship_tag": "ABX9TyMiSYkzGP28QOqfsSo8GQom",
      "include_colab_link": true
    },
    "kernelspec": {
      "name": "python3",
      "display_name": "Python 3"
    },
    "language_info": {
      "name": "python"
    }
  },
  "cells": [
    {
      "cell_type": "markdown",
      "metadata": {
        "id": "view-in-github",
        "colab_type": "text"
      },
      "source": [
        "<a href=\"https://colab.research.google.com/github/Tora0407/Challenge-TelecomX-Fase2/blob/main/TelecomX_LATAM_Parte2.ipynb\" target=\"_parent\"><img src=\"https://colab.research.google.com/assets/colab-badge.svg\" alt=\"Open In Colab\"/></a>"
      ]
    },
    {
      "cell_type": "markdown",
      "source": [
        "#Challenge ALURA LATAM - TelecomX Parte2"
      ],
      "metadata": {
        "id": "3EtVqiy0MVwW"
      }
    },
    {
      "cell_type": "code",
      "execution_count": null,
      "metadata": {
        "id": "1bZl68J3MPRL"
      },
      "outputs": [],
      "source": []
    }
  ]
}